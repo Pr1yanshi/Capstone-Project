{
  "nbformat": 4,
  "nbformat_minor": 0,
  "metadata": {
    "colab": {
      "provenance": [],
      "authorship_tag": "ABX9TyMk2h8+ogXO21YhZQyG2ieP",
      "include_colab_link": true
    },
    "kernelspec": {
      "name": "python3",
      "display_name": "Python 3"
    },
    "language_info": {
      "name": "python"
    }
  },
  "cells": [
    {
      "cell_type": "markdown",
      "metadata": {
        "id": "view-in-github",
        "colab_type": "text"
      },
      "source": [
        "<a href=\"https://colab.research.google.com/github/Pr1yanshi/Capstone-Project/blob/main/Individual.ipynb\" target=\"_parent\"><img src=\"https://colab.research.google.com/assets/colab-badge.svg\" alt=\"Open In Colab\"/></a>"
      ]
    },
    {
      "cell_type": "markdown",
      "source": [
        "**Data Vizualization, Storytelling & Experimenting with charts : Understand the relationships between variables**"
      ],
      "metadata": {
        "id": "JsUN4qQyuoz0"
      }
    },
    {
      "cell_type": "markdown",
      "source": [
        "Chart - 1\n",
        "\n",
        "Question - Which hotel is preferred by customers ?"
      ],
      "metadata": {
        "id": "IKh96SnWuxk_"
      }
    },
    {
      "cell_type": "code",
      "source": [
        "hotel_dataset['hotel'].value_counts()"
      ],
      "metadata": {
        "id": "ddeb0a2Cu5Rs"
      },
      "execution_count": null,
      "outputs": []
    },
    {
      "cell_type": "code",
      "source": [
        "# Chart - 1 Visualization code\n",
        "\n",
        "plt.rcParams['figure.figsize']= (6,6)\n",
        "\n",
        "hotel_dataset['hotel'].value_counts().plot(kind='pie', colors=['green', 'orange'], autopct='%.0f%%', fontsize= 16)\n",
        "plt.ylabel('hotel' , fontsize=16)\n",
        "plt.title('Types of Hotel', fontsize=16)\n",
        "\n"
      ],
      "metadata": {
        "id": "Ct6c39Xau_1e"
      },
      "execution_count": null,
      "outputs": []
    },
    {
      "cell_type": "markdown",
      "source": [
        "1. Why did you pick the specific chart?"
      ],
      "metadata": {
        "id": "tQMx0Mn7vEF2"
      }
    },
    {
      "cell_type": "markdown",
      "source": [
        "\n",
        "Answer - Pie charts are often chosen to represent preferences or proportions because they provide a visually intuitive way to show how a whole is divided into parts.\n",
        "\n",
        "When representing the preferred hotels of customers, a pie chart can effectively convey the relative popularity of each hotel option."
      ],
      "metadata": {
        "id": "A8jcR4MWvJzx"
      }
    },
    {
      "cell_type": "markdown",
      "source": [
        "2. What is/are the insight(s) found from the chart?"
      ],
      "metadata": {
        "id": "ZZZrALu9vOCF"
      }
    },
    {
      "cell_type": "markdown",
      "source": [
        "Answer - The chat indicates that the more preferred hotel among the customers are city hotels and the less preferred are the resort hotels.\n",
        "\n"
      ],
      "metadata": {
        "id": "G62hEPlFvVLH"
      }
    },
    {
      "cell_type": "markdown",
      "source": [
        "3. Will the gained insights help creating a positive business impact?\n",
        "Are there any insights that lead to negative growth? Justify with specific reason."
      ],
      "metadata": {
        "id": "wtG66e1mvZJR"
      }
    },
    {
      "cell_type": "markdown",
      "source": [
        "Answer - Yes, the gained insights will create a positive impact because the most preferred hotel will get the higher popularity and will attract towards more customers."
      ],
      "metadata": {
        "id": "0Ta2Fo49vfkb"
      }
    },
    {
      "cell_type": "markdown",
      "source": [
        "Chart - 2\n",
        "\n",
        "Question - How many bookings were canceled by customers ?"
      ],
      "metadata": {
        "id": "jjo0Aur5vkCW"
      }
    },
    {
      "cell_type": "code",
      "source": [
        "hotel_dataset['cancelation'] = hotel_dataset.is_canceled.replace(to_replace = [1,0], value = ['canceled', 'not canceled'])"
      ],
      "metadata": {
        "id": "BNSE2N4-voFe"
      },
      "execution_count": null,
      "outputs": []
    },
    {
      "cell_type": "code",
      "source": [
        "df_canceled = hotel_dataset['cancelation']\n",
        "df_canceled.value_counts().plot(kind = 'pie', colors = ['turquoise', 'orange'], autopct = '%.0f%%', fontsize = 14)\n",
        "plt.title('Cancelation Plot for Hotel Booking Customers')\n",
        "plt.ylabel('count', fontsize = 16)"
      ],
      "metadata": {
        "id": "0V8UNWHAwHLT"
      },
      "execution_count": null,
      "outputs": []
    },
    {
      "cell_type": "markdown",
      "source": [
        "1. Why did you pick the specific chart?"
      ],
      "metadata": {
        "id": "rI1RZkYnwSPn"
      }
    },
    {
      "cell_type": "markdown",
      "source": [
        "Answer - Pie charts provide a clear and immediate comparison between canceled and not cnceled bookings.\n",
        "\n",
        "Pie charts inherently display data as percentages of the whole, making it easy to see what percentage of bookings fall into each category. This can be valuable for understanding the overall picture."
      ],
      "metadata": {
        "id": "b7vSdbg2wWXb"
      }
    },
    {
      "cell_type": "markdown",
      "source": [
        "2. What is/are the insight(s) found from the chart?"
      ],
      "metadata": {
        "id": "kPDTff0lwcVb"
      }
    },
    {
      "cell_type": "markdown",
      "source": [
        "Answer - The complement of the cancellation rate gives you the booking success rate (percentage of bookings that were not canceled). This is useful for evaluating the effectiveness of the hotel booking process.\n",
        "\n"
      ],
      "metadata": {
        "id": "CPT7z1oRwfzD"
      }
    },
    {
      "cell_type": "markdown",
      "source": [
        "3. Will the gained insights help creating a positive business impact?\n",
        "Are there any insights that lead to negative growth? Justify with specific reason."
      ],
      "metadata": {
        "id": "f2svLJ5iwk9g"
      }
    },
    {
      "cell_type": "markdown",
      "source": [
        "Answer - Yes, it will help in creating a positive impact if we will look into the reasons for cancelation and resolve that then it will be more profitable for the hotel."
      ],
      "metadata": {
        "id": "HOmsdr7iwn27"
      }
    },
    {
      "cell_type": "markdown",
      "source": [
        "Chart - 3\n",
        "\n",
        "Question - How do count of cancelation varies between city hotels Vs resort hotel?\n",
        "\n"
      ],
      "metadata": {
        "id": "5LNJl740wsUm"
      }
    },
    {
      "cell_type": "code",
      "source": [
        "cancelation_by_hotel = hotel_dataset[hotel_dataset['cancelation'] == 'canceled'].groupby(['hotel']).size()\n",
        "cancelation_by_hotel"
      ],
      "metadata": {
        "id": "Y8s63kPbwyDQ"
      },
      "execution_count": null,
      "outputs": []
    },
    {
      "cell_type": "code",
      "source": [
        "# Chart - 3 visualization code\n",
        "\n",
        "cancelation_by_hotel.plot(kind = 'pie', fontsize = 14, autopct = '%.0f%%')\n",
        "plt.ylabel('count', fontsize = 14)\n",
        "plt.title('Count of Cancelations: City Hotel vs Resort Hotel', fontsize = 14, color = 'Red')"
      ],
      "metadata": {
        "id": "LlQhP0Pdw3P0"
      },
      "execution_count": null,
      "outputs": []
    },
    {
      "cell_type": "markdown",
      "source": [
        "1. Why did you pick the specific chart?"
      ],
      "metadata": {
        "id": "nJOgDflnxP3C"
      }
    },
    {
      "cell_type": "markdown",
      "source": [
        "Answer - Pie chart are helpful in comparing and showing the exact percentage of cancelation of bookings between city hotels and resort hotels.\n",
        "\n"
      ],
      "metadata": {
        "id": "PlttMNnyxV9K"
      }
    },
    {
      "cell_type": "markdown",
      "source": [
        "2. What is/are the insight(s) found from the chart?"
      ],
      "metadata": {
        "id": "H3tBUmy0xbWM"
      }
    },
    {
      "cell_type": "markdown",
      "source": [
        "Answer - The chart depicts that the percentage of cancelation of booking in city hotels are more than the resort hotels."
      ],
      "metadata": {
        "id": "AMfclYCqxekK"
      }
    },
    {
      "cell_type": "markdown",
      "source": [
        "3. Will the gained insights help creating a positive business impact?\n",
        "Are there any insights that lead to negative growth? Justify with specific reason."
      ],
      "metadata": {
        "id": "FwQl94PaxiLr"
      }
    },
    {
      "cell_type": "markdown",
      "source": [
        "Answer - Yes, it will create a positive impact when we will able to learn the reasons for more cancelation in city hotels and hence improving them."
      ],
      "metadata": {
        "id": "c2I2wmDvxoU5"
      }
    },
    {
      "cell_type": "markdown",
      "source": [
        "Chart - 4\n",
        "\n",
        "Question - What is the percentage of booking made each year ?\n",
        "\n"
      ],
      "metadata": {
        "id": "5lgTawnMxrda"
      }
    },
    {
      "cell_type": "code",
      "source": [
        "df_hotel_by_year = hotel_dataset[['arrival_date_year', 'hotel']].value_counts().groupby('arrival_date_year').sum()"
      ],
      "metadata": {
        "id": "tnJyU8IIxyuy"
      },
      "execution_count": null,
      "outputs": []
    },
    {
      "cell_type": "code",
      "source": [
        "# Chart - 4 visualization code\n",
        "\n",
        "plt.rcParams['figure.figsize'] = (8,6)\n",
        "df_hotel_by_year.plot(kind = 'bar', color = ['green', 'orange', 'blue'], fontsize = 16)\n",
        "plt.title('Year-Wise Bookings', fontsize = 16)\n",
        "plt.xlabel('Arrival Year', fontsize = 16)\n",
        "plt.ylabel('Count of Arrival', fontsize = 16)"
      ],
      "metadata": {
        "id": "KgUm7YH4x1kC"
      },
      "execution_count": null,
      "outputs": []
    },
    {
      "cell_type": "markdown",
      "source": [
        "1. Why did you pick the specific chart?"
      ],
      "metadata": {
        "id": "NdZ3obHCx6gK"
      }
    },
    {
      "cell_type": "markdown",
      "source": [
        "Answer - Bar helps to show whether the count of arrival between years has been increased and decreased. Thses are easy to read the data and compare arrivals between years."
      ],
      "metadata": {
        "id": "QlnOhSq1x9RR"
      }
    },
    {
      "cell_type": "markdown",
      "source": [
        "2. What is/are the insight(s) found from the chart?"
      ],
      "metadata": {
        "id": "LE9tz9zayBmn"
      }
    },
    {
      "cell_type": "markdown",
      "source": [
        "Answer - The chart depicts that the highest arrival year is 2016 and the least arrival year is 2015."
      ],
      "metadata": {
        "id": "L3e57miJyExw"
      }
    },
    {
      "cell_type": "markdown",
      "source": [
        "3. Will the gained insights help creating a positive business impact?\n",
        "Are there any insights that lead to negative growth? Justify with specific reason."
      ],
      "metadata": {
        "id": "OySFTZVqyHuh"
      }
    },
    {
      "cell_type": "markdown",
      "source": [
        "\n",
        "Answer - Yes, it will create positive impact when we will be to figure out the reason for more arrivals in particular years and focusing and applying the strategies in other years also.\n",
        "\n"
      ],
      "metadata": {
        "id": "V56e9AMayKxU"
      }
    },
    {
      "cell_type": "markdown",
      "source": [
        "Chart - 5\n",
        "\n",
        "Question - What is the count of arrival per year for each hotel ?"
      ],
      "metadata": {
        "id": "3spKynMLyUNd"
      }
    },
    {
      "cell_type": "code",
      "source": [
        "# Chart - 5 visualization code\n",
        "\n",
        "plt.rcParams['figure.figsize'] = (15, 5)\n",
        "sns.countplot(data = hotel_dataset, x = 'arrival_date_year', hue = 'hotel')\n",
        "plt.title('Count of arrival per Year for each hotel', fontsize = 16)\n",
        "plt.xlabel('Arrival Year', fontsize = 16)\n",
        "plt.ylabel('Count of Arrival', fontsize = 16)"
      ],
      "metadata": {
        "id": "miSKfDO8yXw0"
      },
      "execution_count": null,
      "outputs": []
    },
    {
      "cell_type": "markdown",
      "source": [
        "1. Why did you pick the specific chart?"
      ],
      "metadata": {
        "id": "0w7rKl_Nybbc"
      }
    },
    {
      "cell_type": "markdown",
      "source": [
        "\n",
        "Answer - We used the bar chart to compare between two types of hotel and their arrival customers per year."
      ],
      "metadata": {
        "id": "MYuQ4rG2yeHk"
      }
    },
    {
      "cell_type": "markdown",
      "source": [
        "\n",
        "2. What is/are the insight(s) found from the chart?\n"
      ],
      "metadata": {
        "id": "KC-yueS9yg9W"
      }
    },
    {
      "cell_type": "markdown",
      "source": [
        "\n",
        "Answer - The chart depicts that the count of arrival in city hotel is more than the resort hotel that also shows the customer preference towards city hotel. The arrival year count for bith the hotels is maximum in the year 2016"
      ],
      "metadata": {
        "id": "-VDHq2WayjxC"
      }
    },
    {
      "cell_type": "markdown",
      "source": [
        "\n",
        "3. Will the gained insights help creating a positive business impact?\n",
        "Are there any insights that lead to negative growth? Justify with specific reason.\n",
        "\n"
      ],
      "metadata": {
        "id": "oV-ugDXkymdr"
      }
    },
    {
      "cell_type": "markdown",
      "source": [
        "Answer - Yes, it can have positive impacts when we apply particular strategies every year to attract more customers."
      ],
      "metadata": {
        "id": "JcAYEeTJypdW"
      }
    },
    {
      "cell_type": "markdown",
      "source": [
        "Chart - 6\n",
        "\n",
        "Question - What is the count of arrival per month for each hotel?"
      ],
      "metadata": {
        "id": "KXJUtCb-yr4z"
      }
    },
    {
      "cell_type": "code",
      "source": [
        "# Chart - 6 visualization code\n",
        "\n",
        "plt.rcParams['figure.figsize'] = (15, 5)\n",
        "sns.countplot(data = hotel_dataset, x = 'arrival_date_month', hue = 'hotel', order = ['January', 'February', 'March', 'April', 'May', 'June', 'July', 'August', 'September', 'October', 'November', 'December'])\n",
        "plt.title('Count of arrival per month for each hotel', fontsize = 16)\n",
        "plt.xlabel('Arrival Month', fontsize = 16)\n",
        "plt.ylabel('Count', fontsize = 16)"
      ],
      "metadata": {
        "id": "3_Lh6ZiJyvqv"
      },
      "execution_count": null,
      "outputs": []
    },
    {
      "cell_type": "markdown",
      "source": [
        "1. Why did you pick the specific chart?"
      ],
      "metadata": {
        "id": "rq0q30uuyzL_"
      }
    },
    {
      "cell_type": "markdown",
      "source": [
        "Answer - We pick bar charts to depict the month wise arrival for each hotel and easy to read and compare the highest and least among them.\n",
        "\n",
        "\n",
        "\n"
      ],
      "metadata": {
        "id": "Ui6GUd4Gy180"
      }
    },
    {
      "cell_type": "markdown",
      "source": [
        "\n",
        "2. What is/are the insight(s) found from the chart?"
      ],
      "metadata": {
        "id": "Svy4rgbhy4WN"
      }
    },
    {
      "cell_type": "markdown",
      "source": [
        "\n",
        "Answer - The graph shows that the arrival per month for city hotel is more than the resort hotel that means the popularity of city hotels is more."
      ],
      "metadata": {
        "id": "gnGx3M4zzAz2"
      }
    },
    {
      "cell_type": "markdown",
      "source": [
        "\n",
        "3. Will the gained insights help creating a positive business impact?\n",
        "Are there any insights that lead to negative growth? Justify with specific reason."
      ],
      "metadata": {
        "id": "D-gBrO1ezDLI"
      }
    },
    {
      "cell_type": "markdown",
      "source": [
        "Answer - Yes, it will help in gaining positive impact because the chart is depicting the popularity and will be very helping in attracting maximum customers."
      ],
      "metadata": {
        "id": "epGagL7izFn7"
      }
    },
    {
      "cell_type": "markdown",
      "source": [
        "Chart - 7\n",
        "\n",
        "Question - What is the count of arrival per day for each hotel?"
      ],
      "metadata": {
        "id": "AyrU153HzIQ7"
      }
    },
    {
      "cell_type": "code",
      "source": [
        "# Chart - 7 visualization code\n",
        "\n",
        "plt.rcParams['figure.figsize'] = (20, 5)\n",
        "sns.countplot(data = hotel_dataset, x = 'arrival_date_day_of_month', hue = 'hotel')\n",
        "plt.title('Count of arrival per day for each hotel', fontsize = 16)\n",
        "plt.xlabel('Arrival Date', fontsize = 16)\n",
        "plt.ylabel('Count', fontsize = 16)"
      ],
      "metadata": {
        "id": "UAxXyh8mzMNA"
      },
      "execution_count": null,
      "outputs": []
    },
    {
      "cell_type": "markdown",
      "source": [
        "\n",
        "1. Why did you pick the specific chart?\n"
      ],
      "metadata": {
        "id": "7dfuQktRzPDS"
      }
    },
    {
      "cell_type": "markdown",
      "source": [
        "Answer - We have choosen the bar chart to depict the per day arrival for each hotel and understanding which day has most arrivals and which day have least."
      ],
      "metadata": {
        "id": "teIHgVJezSU8"
      }
    },
    {
      "cell_type": "markdown",
      "source": [
        "2. What is/are the insight(s) found from the chart?"
      ],
      "metadata": {
        "id": "6RKSaLD1zU0j"
      }
    },
    {
      "cell_type": "markdown",
      "source": [
        "Answer - The insights is that the city hotels have more arrivals and attracts greater customers."
      ],
      "metadata": {
        "id": "pw9ZZKtXzXlq"
      }
    },
    {
      "cell_type": "markdown",
      "source": [
        "\n",
        "3. Will the gained insights help creating a positive business impact?\n",
        "Are there any insights that lead to negative growth? Justify with specific reason."
      ],
      "metadata": {
        "id": "XOIis7izzaUJ"
      }
    },
    {
      "cell_type": "markdown",
      "source": [
        "Answer - Yes, it will help in gaining positive business impact."
      ],
      "metadata": {
        "id": "_w3uWvibzc6A"
      }
    },
    {
      "cell_type": "markdown",
      "source": [
        "\n",
        "Chart - 8\n",
        "\n",
        "Question - What is the count of stays on week nights?\n",
        "\n"
      ],
      "metadata": {
        "id": "l9xxjpUyzfcR"
      }
    },
    {
      "cell_type": "code",
      "source": [
        "# Chart - 8 visualization code\n",
        "\n",
        "plt.rcParams['figure.figsize'] = (20, 5)\n",
        "sns.countplot(data = hotel_dataset, x = 'stays_in_week_nights')\n",
        "plt.title('Count of stays on week nights', fontsize = 16)\n",
        "plt.xlabel('Stays in week nights', fontsize = 16)\n",
        "plt.ylabel('Count', fontsize = 16)"
      ],
      "metadata": {
        "id": "ZQhRgIN2zkhg"
      },
      "execution_count": null,
      "outputs": []
    },
    {
      "cell_type": "markdown",
      "source": [
        "1. Why did you pick the specific chart?"
      ],
      "metadata": {
        "id": "VRnwKKKOzpGd"
      }
    },
    {
      "cell_type": "markdown",
      "source": [
        "Answer - We have choosen bar charts to show the clear and understadable image of customers having stays in week nights."
      ],
      "metadata": {
        "id": "1SXaL6k2zttQ"
      }
    },
    {
      "cell_type": "markdown",
      "source": [
        "\n",
        "2. What is/are the insight(s) found from the chart?"
      ],
      "metadata": {
        "id": "LksHE0A1zxkX"
      }
    },
    {
      "cell_type": "markdown",
      "source": [
        "Answer - The insight is that many customers prefer spending there week nights in hotels."
      ],
      "metadata": {
        "id": "n6zW97FUz0Ju"
      }
    },
    {
      "cell_type": "markdown",
      "source": [
        "3. Will the gained insights help creating a positive business impact?\n",
        "Are there any insights that lead to negative growth? Justify with specific reason."
      ],
      "metadata": {
        "id": "yQNHhJj5z2ka"
      }
    },
    {
      "cell_type": "markdown",
      "source": [
        "Answer - Yes, it will help in creating positive business impact.\n",
        "\n"
      ],
      "metadata": {
        "id": "tKDV0zM3z5RE"
      }
    },
    {
      "cell_type": "markdown",
      "source": [
        "Chart - 9\n",
        "\n",
        "Question - What is the count of adults for each hotel?"
      ],
      "metadata": {
        "id": "__SMw6T6z8Or"
      }
    },
    {
      "cell_type": "code",
      "source": [
        "df_adults = hotel_dataset[['hotel', 'adults']][hotel_dataset['adults']>0].groupby(['hotel']).count()\n",
        "df_adults"
      ],
      "metadata": {
        "id": "Ae1VXJ6nz_OE"
      },
      "execution_count": null,
      "outputs": []
    },
    {
      "cell_type": "code",
      "source": [
        "# Chart - 9 visualization code\n",
        "\n",
        "plt.rcParams['figure.figsize'] = (20, 5)\n",
        "sns.countplot(data = hotel_dataset, x = 'adults', hue = 'hotel').set_title('Counts of adults')"
      ],
      "metadata": {
        "id": "ZX6psuLH0D3N"
      },
      "execution_count": null,
      "outputs": []
    },
    {
      "cell_type": "markdown",
      "source": [
        "1. Why did you pick the specific chart?"
      ],
      "metadata": {
        "id": "JFR90qsr0HUA"
      }
    },
    {
      "cell_type": "markdown",
      "source": [
        "Answer - We used the bar chart to represent the number of adults attracted towards each type of hotels and creating more clearer image of comparison."
      ],
      "metadata": {
        "id": "Zttr2FaV0KoU"
      }
    },
    {
      "cell_type": "markdown",
      "source": [
        "2. What is/are the insight(s) found from the chart?"
      ],
      "metadata": {
        "id": "iEfeqjc50O44"
      }
    },
    {
      "cell_type": "markdown",
      "source": [
        "\n",
        "Answer - Insights are that the adults are more attracted to city hotels in comparison to resort hotels.\n",
        "\n"
      ],
      "metadata": {
        "id": "kqTei44j0WEi"
      }
    },
    {
      "cell_type": "markdown",
      "source": [
        "3. Will the gained insights help creating a positive business impact?\n",
        "Are there any insights that lead to negative growth? Justify with specific reason."
      ],
      "metadata": {
        "id": "AS6-boGO0ZSy"
      }
    },
    {
      "cell_type": "markdown",
      "source": [
        "Answer - Yes, it will help in creating more positive business impact and will help in attracting more adult customers."
      ],
      "metadata": {
        "id": "hI6Rlxjd0d2u"
      }
    },
    {
      "cell_type": "markdown",
      "source": [
        "\n",
        "Chart - 10\n",
        "\n",
        "Question - What is the count of children for each hotel?"
      ],
      "metadata": {
        "id": "Hv6_gHum0gfN"
      }
    },
    {
      "cell_type": "code",
      "source": [
        "df_children = hotel_dataset[['hotel', 'children']][hotel_dataset['children']>0].groupby(['hotel']).count()\n",
        "df_children"
      ],
      "metadata": {
        "id": "GDOP-KPr0kw7"
      },
      "execution_count": null,
      "outputs": []
    },
    {
      "cell_type": "code",
      "source": [
        "# Chart - 10 visualization code\n",
        "\n",
        "plt.rcParams['figure.figsize'] = (20, 5)\n",
        "sns.countplot(data = hotel_dataset, x = 'children', hue = 'hotel').set_title('Counts of children')"
      ],
      "metadata": {
        "id": "JobnQriR0nxl"
      },
      "execution_count": null,
      "outputs": []
    },
    {
      "cell_type": "markdown",
      "source": [
        "1. Why did you pick the specific chart?"
      ],
      "metadata": {
        "id": "SeSUbbBR0rCN"
      }
    },
    {
      "cell_type": "markdown",
      "source": [
        "Answer - We have choosen bar chart to show a clear and understandable image of comparison of children between city and resort hotels."
      ],
      "metadata": {
        "id": "4fyUmPLW0uk_"
      }
    },
    {
      "cell_type": "markdown",
      "source": [
        "2. What is/are the insight(s) found from the chart?"
      ],
      "metadata": {
        "id": "TQxNQDeb0ydO"
      }
    },
    {
      "cell_type": "markdown",
      "source": [
        "Answer - The insights are that the children's preference is more to city hotels than resort hotels."
      ],
      "metadata": {
        "id": "HuZ0gQ8D01Tu"
      }
    },
    {
      "cell_type": "markdown",
      "source": [
        "3. Will the gained insights help creating a positive business impact?\n",
        "Are there any insights that lead to negative growth? Justify with specific reason."
      ],
      "metadata": {
        "id": "Qti7UHPi0432"
      }
    },
    {
      "cell_type": "markdown",
      "source": [
        "Answer - Yes, it will help in creating the positive impact.\n",
        "\n"
      ],
      "metadata": {
        "id": "m9QupWhM08s4"
      }
    },
    {
      "cell_type": "markdown",
      "source": [
        "\n",
        "Chart - 11\n",
        "\n",
        "Question - What is the count of babies for each hotel?"
      ],
      "metadata": {
        "id": "j-Lkr7Om1BAr"
      }
    },
    {
      "cell_type": "code",
      "source": [
        "df_babies = hotel_dataset[['hotel', 'babies']][hotel_dataset['babies']>0].groupby(['hotel']).count()\n",
        "df_babies"
      ],
      "metadata": {
        "id": "Cws7u6y51EuK"
      },
      "execution_count": null,
      "outputs": []
    },
    {
      "cell_type": "code",
      "source": [
        "# Chart - 11 visualization code\n",
        "\n",
        "plt.rcParams['figure.figsize'] = (20, 5)\n",
        "sns.countplot(data = hotel_dataset, x = 'babies', hue = 'hotel').set_title('Counts of babies')"
      ],
      "metadata": {
        "id": "_lHD2jhP1NC-"
      },
      "execution_count": null,
      "outputs": []
    },
    {
      "cell_type": "markdown",
      "source": [
        "1. Why did you pick the specific chart?"
      ],
      "metadata": {
        "id": "59ZA-uoP1JjS"
      }
    },
    {
      "cell_type": "markdown",
      "source": [
        "Answer - We have taken bar chart to show the clear image of comparison between city hotel and resort hotel having more baby customers."
      ],
      "metadata": {
        "id": "Be-EhQRA1Qqu"
      }
    },
    {
      "cell_type": "markdown",
      "source": [
        "2. What is/are the insight(s) found from the chart?"
      ],
      "metadata": {
        "id": "_UvDYPt01ZYT"
      }
    },
    {
      "cell_type": "markdown",
      "source": [
        "\n",
        "Answer - The insights from the chart shows that the number of babies in city hotel hotel is more than resort hotel."
      ],
      "metadata": {
        "id": "c8wi-Plf1d4C"
      }
    },
    {
      "cell_type": "markdown",
      "source": [
        "3. Will the gained insights help creating a positive business impact?\n",
        "Are there any insights that lead to negative growth? Justify with specific reason."
      ],
      "metadata": {
        "id": "NtHPI_081fCQ"
      }
    },
    {
      "cell_type": "markdown",
      "source": [
        "\n",
        "Answer - Yes, it will help in creating positive business impact."
      ],
      "metadata": {
        "id": "S3jHXp9B1lWL"
      }
    },
    {
      "cell_type": "markdown",
      "source": [
        "Chart - 12\n",
        "\n",
        "Question - Are the guests repeated or not?"
      ],
      "metadata": {
        "id": "2agYOrHo1ttk"
      }
    },
    {
      "cell_type": "code",
      "source": [
        "# Chart - 12 visualization code\n",
        "\n",
        "plt.rcParams['figure.figsize'] = (5,5)\n",
        "sns.countplot(data = hotel_dataset, x = 'is_repeated_guest')\n",
        "plt.title('Graph showing whether guest is repeated guest', fontsize = 10)"
      ],
      "metadata": {
        "id": "ZnabL4uu12Az"
      },
      "execution_count": null,
      "outputs": []
    },
    {
      "cell_type": "markdown",
      "source": [
        "1. Why did you pick the specific chart?"
      ],
      "metadata": {
        "id": "iUul3hbl15NM"
      }
    },
    {
      "cell_type": "markdown",
      "source": [
        "Answer - The bar graph shows the repeated guests in the hotels.\n",
        "\n"
      ],
      "metadata": {
        "id": "YbssY6Ay17tr"
      }
    },
    {
      "cell_type": "markdown",
      "source": [
        "2. What is/are the insight(s) found from the chart?\n"
      ],
      "metadata": {
        "id": "apK7WQW61-Dp"
      }
    },
    {
      "cell_type": "markdown",
      "source": [
        "Answer - The graph shows the number of repeated guests."
      ],
      "metadata": {
        "id": "Qe5dxZrU2BnQ"
      }
    },
    {
      "cell_type": "markdown",
      "source": [
        "3. Will the gained insights help creating a positive business impact?\n",
        "Are there any insights that lead to negative growth? Justify with specific reason."
      ],
      "metadata": {
        "id": "HXA1CxDE2FwE"
      }
    },
    {
      "cell_type": "markdown",
      "source": [
        "Answer - Yes, it will help in creating positive business imapct.\n",
        "\n"
      ],
      "metadata": {
        "id": "krQrNHO42IGG"
      }
    },
    {
      "cell_type": "markdown",
      "source": [
        "\n",
        "Chart - 13\n",
        "\n",
        "Question - What is the count of stays on weekend nights ?"
      ],
      "metadata": {
        "id": "ajT4gfCS2Mt5"
      }
    },
    {
      "cell_type": "code",
      "source": [
        "# Chart - 13 visualization code\n",
        "\n",
        "plt.rcParams['figure.figsize'] = (20, 5)\n",
        "sns.countplot(data = hotel_dataset, x = 'stays_in_weekend_nights')\n",
        "plt.title('Count of stays on weekend nights', fontsize = 16)\n",
        "plt.xlabel('Stays in weekend nights', fontsize = 16)\n",
        "plt.ylabel('Count', fontsize = 16)\n",
        "plt.xlim(0.5, 20)"
      ],
      "metadata": {
        "id": "3HkJHJdp2RVe"
      },
      "execution_count": null,
      "outputs": []
    },
    {
      "cell_type": "markdown",
      "source": [
        "1. Why did you pick the specific chart?"
      ],
      "metadata": {
        "id": "xhbl03bF2U_3"
      }
    },
    {
      "cell_type": "markdown",
      "source": [
        "Answer - The bar graph showing simple and clear image of customers spending weekend nights."
      ],
      "metadata": {
        "id": "xRBXcd8n2cZR"
      }
    },
    {
      "cell_type": "markdown",
      "source": [
        "2. What is/are the insight(s) found from the chart?"
      ],
      "metadata": {
        "id": "R-tXJutK2iDw"
      }
    },
    {
      "cell_type": "markdown",
      "source": [
        "Answer - The insights from the chart depicts the number of stays of customer in weekend nights."
      ],
      "metadata": {
        "id": "S16LwYjL2lAV"
      }
    },
    {
      "cell_type": "markdown",
      "source": [
        "3. Will the gained insights help creating a positive business impact?\n",
        "Are there any insights that lead to negative growth? Justify with specific reason."
      ],
      "metadata": {
        "id": "HsSOEj_R2nye"
      }
    },
    {
      "cell_type": "markdown",
      "source": [
        "\n",
        "Answer - Yes, it will help in creating positive business impact.\n",
        "\n"
      ],
      "metadata": {
        "id": "D_lWIL2x2q1f"
      }
    },
    {
      "cell_type": "markdown",
      "source": [
        "Chart - 14 - Correlation Heatmap"
      ],
      "metadata": {
        "id": "upqTfvUl2vQ1"
      }
    },
    {
      "cell_type": "code",
      "source": [
        "# Correlation Heatmap visualization code\n",
        "\n",
        "plt.rcParams['figure.figsize'] = 20,10\n",
        "sns.heatmap(hotel_dataset.corr(), cmap = 'coolwarm', annot = True);"
      ],
      "metadata": {
        "id": "MB_62Flt20As"
      },
      "execution_count": null,
      "outputs": []
    },
    {
      "cell_type": "markdown",
      "source": [
        "\n",
        "**Solution to Business Objective**"
      ],
      "metadata": {
        "id": "60_uPSc724eq"
      }
    },
    {
      "cell_type": "markdown",
      "source": [
        "What do you suggest the client to achieve Business Objective ?\n",
        "\n",
        "Explain Briefly.\n",
        "\n"
      ],
      "metadata": {
        "id": "L3GiFkOb3Ttm"
      }
    },
    {
      "cell_type": "markdown",
      "source": [
        "Answer - We will suggest the client to achieve Business Objective by following few stategies or measures and prevent few things in order to get positive business aspect.\n",
        "\n",
        "The client should understand that the more preferred hotel are the city hotels and the number of cancelations are also more in city hotel than the resort hotels. The client should analyse reason and should put some strategies to get less cancellation.\n",
        "\n",
        "The client should understand which age group of customers are more attracted and should work and implement on attracting more age group of customers. The client should analyse the year, month and day wise arrival of customers to know what people like and prefer. The year which have more arrivals should be taken as example for other years in order to get more customers. The client can also implement some schemes because there are more customers to stay in weekend nights.\n",
        "\n",
        "The client should focus on attracting customers and providing them satisfaction. Client can also impliment some sort of schemes, offers and other stragies. Client should also be competitive and learn from others to have more impactful business."
      ],
      "metadata": {
        "id": "TcB4UtyL27Od"
      }
    }
  ]
}